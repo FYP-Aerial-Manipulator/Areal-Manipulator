{
 "cells": [
  {
   "cell_type": "code",
   "execution_count": null,
   "metadata": {},
   "outputs": [],
   "source": [
    "sudo apt-get install python3-dev python3-pip\n",
    "sudo pip3 install dronekit"
   ]
  },
  {
   "cell_type": "code",
   "execution_count": null,
   "metadata": {},
   "outputs": [],
   "source": [
    "from dronekit import connect, VehicleMode\n",
    "\n",
    "# Connect to the Pixhawk using I2C\n",
    "vehicle = connect('/dev/ttyACM0', wait_ready=True, baud=115200)\n",
    "\n",
    "# Do something with the vehicle\n",
    "print(\"Connected to Pixhawk\")\n",
    "print(\"Vehicle Firmware Version:\", vehicle.version)\n",
    "\n",
    "# Print the current Pixhawk mode\n",
    "print(\"Current Vehicle Mode:\", vehicle.mode.name)\n",
    "\n",
    "# Change the mode to \"GUIDED\"\n",
    "new_mode = VehicleMode(\"GUIDED\")\n",
    "vehicle.mode = new_mode\n",
    "\n",
    "# Print the updated Pixhawk mode\n",
    "print(\"Updated Vehicle Mode:\", vehicle.mode.name)\n",
    "\n",
    "# Close the connection when done\n",
    "vehicle.close()\n"
   ]
  }
 ],
 "metadata": {
  "language_info": {
   "name": "python"
  }
 },
 "nbformat": 4,
 "nbformat_minor": 2
}
